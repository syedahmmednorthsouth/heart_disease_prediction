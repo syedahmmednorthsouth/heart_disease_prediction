{
 "cells": [
  {
   "cell_type": "code",
   "execution_count": null,
   "id": "2c409d71-bd02-4a4d-a774-8a85ebd62a78",
   "metadata": {},
   "outputs": [],
   "source": [
    "import pandas as pd\n",
    "import numpy as np"
   ]
  },
  {
   "cell_type": "code",
   "execution_count": null,
   "id": "e590b0ce-5207-455a-92b2-20629d07b599",
   "metadata": {},
   "outputs": [],
   "source": [
    "df = pd.read_csv(\"data/donwloaded/heart_disease_uci.csv\")"
   ]
  }
 ],
 "metadata": {
  "kernelspec": {
   "display_name": "Python 3 (ipykernel)",
   "language": "python",
   "name": "python3"
  },
  "language_info": {
   "codemirror_mode": {
    "name": "ipython",
    "version": 3
   },
   "file_extension": ".py",
   "mimetype": "text/x-python",
   "name": "python",
   "nbconvert_exporter": "python",
   "pygments_lexer": "ipython3",
   "version": "3.9.16"
  }
 },
 "nbformat": 4,
 "nbformat_minor": 5
}
